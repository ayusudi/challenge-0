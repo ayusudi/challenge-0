{
  "nbformat": 4,
  "nbformat_minor": 0,
  "metadata": {
    "colab": {
      "provenance": []
    },
    "kernelspec": {
      "name": "python3",
      "display_name": "Python 3"
    },
    "language_info": {
      "name": "python"
    }
  },
  "cells": [
    {
      "cell_type": "markdown",
      "source": [
        "# Object Oriented Programing (OOP)\n",
        "- Ngoding dengan orientasi seperti dunia nyata\n",
        "- Mempertimbangkan property & method (function)\n",
        "- Jangan memberikan nama property (attr) dan method sama"
      ],
      "metadata": {
        "id": "bV_7pNkOtcu1"
      }
    },
    {
      "cell_type": "markdown",
      "source": [
        "## Define A **Class** & Get An **Object**"
      ],
      "metadata": {
        "id": "THuH9SievGpR"
      }
    },
    {
      "cell_type": "code",
      "source": [
        "# Mari kita definisi hewan dengan ciri-ciri\n",
        "# name, jenis hewan, kingdom (invertebrata & verteberata), jumlah kaki.\n",
        "\n",
        "class Animal:\n",
        "  def __init__(self): # Definisi attribute/property (variable)\n",
        "    self.name = \"Luwy\"\n",
        "    self.animalType = \"Cat\"\n",
        "    self.kingdom = \"verteberata\"\n",
        "    self.totalLeg = 4\n",
        "\n",
        "  def __str__(self):\n",
        "    return f'Hewan ini adalah {self.animalType} dengan nama {self.name} merupakan kingdom {self.kingdom}'\n",
        "\n",
        "  def speak(self):\n",
        "    return \"hai\"\n",
        "\n",
        "kucingku = Animal()\n",
        "print(kucingku)\n",
        "print(kucingku.name) # Pemanggilan property\n",
        "print(kucingku.speak()) # Pemanggilan method"
      ],
      "metadata": {
        "id": "2oj_3e85uB48",
        "colab": {
          "base_uri": "https://localhost:8080/"
        },
        "outputId": "97711f15-3fcd-4fc9-aea9-94bebdada258"
      },
      "execution_count": 33,
      "outputs": [
        {
          "output_type": "stream",
          "name": "stdout",
          "text": [
            "Hewan ini adalah Cat dengan nama Luwy merupakan kingdom verteberata\n",
            "Hewan ini adalah Cat dengan nama Luffy merupakan kingdom verteberata\n",
            "Luffy\n",
            "hai\n"
          ]
        }
      ]
    },
    {
      "cell_type": "markdown",
      "source": [
        "### Method & Property"
      ],
      "metadata": {
        "id": "Z2Iy1r7bvoau"
      }
    },
    {
      "cell_type": "markdown",
      "source": [
        "## Inheritance"
      ],
      "metadata": {
        "id": "WvSt6Gn-vWDN"
      }
    },
    {
      "cell_type": "code",
      "source": [
        "class Animal:\n",
        "  def __init__(self, name, animalType, kingdom, totalLeg): # Definisi attribute/property (variable)\n",
        "    self.name = name\n",
        "    self.animalType = animalType\n",
        "    self.kingdom = kingdom\n",
        "    self.totalLeg = totalLeg\n",
        "\n",
        "  def __str__(self):\n",
        "    return f'Hewan ini adalah {self.animalType} dengan nama {self.name} merupakan kingdom {self.kingdom}'\n",
        "\n",
        "  def speak(self):\n",
        "    return \"hai\"\n",
        "\n",
        "# kucingku = Animal(\"Luwy\", \"Cat\", \"verteberata\", 4)\n",
        "# print(kucingku)\n",
        "\n",
        "\n",
        "class Invertebrata(Animal):\n",
        "  def __init__(self,  name, animalType, totalLeg, mood):\n",
        "    Animal.__init__(self, name, animalType, \"Invertebrate\", totalLeg)\n",
        "    self._mood = mood\n",
        "\n",
        "  def get_mood(self): # Getter\n",
        "    return self._mood\n",
        "\n",
        "  def set_mood(self, value): # Setter\n",
        "    self._mood = value\n",
        "\n",
        "  def running5Km(self):\n",
        "    print(\"Lari.....\")\n",
        "    self._mood = False\n",
        "\n",
        "  def speak(self):\n",
        "    return f\"Halloooo ini {self.name}\"\n",
        "\n",
        "\n",
        "\n",
        "class Vertebrata(Animal):\n",
        "  def __init__(self,  name, animalType, totalLeg):\n",
        "    Animal.__init__(self, name, animalType, \"Vertebrata\", totalLeg)\n",
        "\n",
        "cicak = Invertebrata(\"Cicak\", \"Cicak\", 4, False)\n",
        "print(cicak.speak())\n",
        "print(cicak.name)\n",
        "# print(cicak.__mood) # Tidak bisa akses langsung\n",
        "print(cicak.get_mood())\n",
        "cicak.set_mood(True)\n",
        "print(cicak.get_mood())\n",
        "\n",
        "\n",
        "cicak.running5Km()\n",
        "print(cicak.get_mood())\n",
        "\n",
        "\n",
        "# kucingku = Vertebrata(\"Luwy\", \"Cat\", 4)\n",
        "# print(kucingku)"
      ],
      "metadata": {
        "colab": {
          "base_uri": "https://localhost:8080/"
        },
        "id": "hb3SEE2d2BIW",
        "outputId": "2d82c152-567f-4c27-e715-012b90fac091"
      },
      "execution_count": 41,
      "outputs": [
        {
          "output_type": "stream",
          "name": "stdout",
          "text": [
            "Halloooo Cicak\n",
            "Cicak\n",
            "False\n",
            "True\n",
            "Lari.....\n",
            "False\n"
          ]
        }
      ]
    },
    {
      "cell_type": "markdown",
      "source": [
        "## Encapsulation\n",
        "\n",
        "- Ada hal yang bisa disembunyikan dengan tambahan penamaan diawali underscore \"_\"\n",
        "- Akses dan mengubah melewati method (getter & setter)"
      ],
      "metadata": {
        "id": "9d8TYdvLvYUh"
      }
    },
    {
      "cell_type": "markdown",
      "source": [
        "## Polymorphism\n"
      ],
      "metadata": {
        "id": "JYkpchmpvgCQ"
      }
    },
    {
      "cell_type": "code",
      "source": [],
      "metadata": {
        "id": "97o9hrF-_R1W"
      },
      "execution_count": null,
      "outputs": []
    },
    {
      "cell_type": "markdown",
      "source": [
        "# EXERCISE\n",
        "Write a Python class Employee with attributes like:\n",
        "emp_id, emp_name, emp_salary, and emp_department\n",
        "\n",
        "and methods like calculate_emp_salary, emp_assign_department, and print_employee_details.\n",
        "\n",
        "\n",
        "Sample Employee Data:  \n",
        "\"ADAMS\", \"E7876\", 50000, \"ACCOUNTING\"  \n",
        "\"JONES\", \"E7499\", 45000, \"RESEARCH\"  \n",
        "\"MARTIN\", \"E7900\", 50000, \"SALES\"   \n",
        "\"SMITH\", \"E7698\", 55000, \"OPERATIONS\"  \n",
        "\n",
        "\n",
        "\n",
        "- Use 'assign_department' method to change the department of an employee.\n",
        "- Use 'print_employee_details' method to print the details of an employee.\n",
        "- Use 'calculate_emp_salary' method takes two arguments: salary and hours_worked, which is the number of hours worked by the employee. If the number of hours worked is more than 50, the method computes overtime and adds it to the salary. Overtime is calculated as following formula:\n",
        "\n",
        "  Overtime = hours_worked - 50  \n",
        "  Overtime amount = (overtime * (salary / 50))\n"
      ],
      "metadata": {
        "id": "R9vlfTBo-2w1"
      }
    },
    {
      "cell_type": "code",
      "source": [
        "class Employee:\n",
        "  def __init__(self, emp_id, emp_name, emp_salary, emp_departement):\n",
        "    self.emp_id = emp_id\n",
        "    self.emp_name = emp_name\n",
        "    self.emp_salary = emp_salary\n",
        "    self.emp_departement = emp_departement\n",
        "\n",
        "  def calculate_emp_salary(self, salary_perhour, hours_worked):\n",
        "    overtime = hours_worked - 50\n",
        "    overtime_amount = (overtime * ( salary_perhour / 50))\n",
        "    result = self.emp_salary + overtime_amount\n",
        "    return result\n",
        "\n",
        "  def emp_assign_department(self, value): # Setter tapi bukan untuk private\n",
        "    self.emp_departement = value\n",
        "    return self\n",
        "\n",
        "  def print_employee_details(self):\n",
        "    return f\"\"\"\n",
        "    ID {self.emp_id} dengan nama {self.emp_name}\n",
        "    departement {self.emp_departement} dengan salary {self.emp_salary}\n",
        "    \"\"\"\n",
        "\n",
        "  def __str__(self):\n",
        "    return f\"ID {self.emp_id} dengan nama {self.emp_name}\"\n",
        "\n",
        "if __name__ == \"__main__\":\n",
        "  listData = [\n",
        "      {\"name\": \"ADAMS\", \"id\": \"E7876\", \"salary\": 50000, \"departement\": \"ACCOUNTING\"},\n",
        "      {\"name\": \"JONES\", \"id\":  \"E7499\", \"salary\": 45000, \"departement\": \"RESEARCH\"  },\n",
        "      {\"name\": \"MARTIN\", \"id\": \"E7900\", \"salary\": 50000, \"departement\": \"SALES\"   },\n",
        "      {\"name\": \"SMITH\", \"id\": \"E7698\", \"salary\": 55000, \"departement\":\"OPERATIONS\" }\n",
        "  ]\n",
        "  # List of object (instance)\n",
        "  listOOP = []\n",
        "  for data in listData:\n",
        "    obj = Employee( data[\"id\"], data[\"name\"], data[\"salary\"], data[\"departement\"])\n",
        "    listOOP.append(obj)\n",
        "\n",
        "\n",
        "  print(listOOP[0].print_employee_details())\n",
        "  print(listOOP[0].emp_assign_department(\"INSTRUKTUR\").print_employee_details())\n",
        "  print(listOOP[0].calculate_emp_salary(1000, 51))\n",
        "  # print(listOOP[0].print_employee_details())\n"
      ],
      "metadata": {
        "colab": {
          "base_uri": "https://localhost:8080/"
        },
        "id": "u34DLllL-2dR",
        "outputId": "750a7d59-9250-44eb-fe45-049c8f29aaed"
      },
      "execution_count": 56,
      "outputs": [
        {
          "output_type": "stream",
          "name": "stdout",
          "text": [
            "\n",
            "    ID E7876 dengan nama ADAMS\n",
            "    departement ACCOUNTING dengan salary 50000\n",
            "    \n",
            "\n",
            "    ID E7876 dengan nama ADAMS\n",
            "    departement INSTRUKTUR dengan salary 50000\n",
            "    \n",
            "50020.0\n"
          ]
        }
      ]
    }
  ]
}