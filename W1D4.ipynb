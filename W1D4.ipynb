{
  "cells": [
    {
      "cell_type": "markdown",
      "metadata": {
        "id": "bV_7pNkOtcu1"
      },
      "source": [
        "# Object Oriented Programing (OOP)\n",
        "- Ngoding dengan orientasi seperti dunia nyata\n",
        "- Mempertimbangkan property & method (function)\n",
        "- Jangan memberikan nama property (attr) dan method sama"
      ]
    },
    {
      "cell_type": "markdown",
      "metadata": {
        "id": "THuH9SievGpR"
      },
      "source": [
        "## Define A **Class** & Get An **Object**"
      ]
    },
    {
      "cell_type": "code",
      "execution_count": 33,
      "metadata": {
        "colab": {
          "base_uri": "https://localhost:8080/"
        },
        "id": "2oj_3e85uB48",
        "outputId": "97711f15-3fcd-4fc9-aea9-94bebdada258"
      },
      "outputs": [
        {
          "name": "stdout",
          "output_type": "stream",
          "text": [
            "Hewan ini adalah Cat dengan nama Luwy merupakan kingdom verteberata\n",
            "Hewan ini adalah Cat dengan nama Luffy merupakan kingdom verteberata\n",
            "Luffy\n",
            "hai\n"
          ]
        }
      ],
      "source": [
        "# Mari kita definisi hewan dengan ciri-ciri\n",
        "# name, jenis hewan, kingdom (invertebrata & verteberata), jumlah kaki.\n",
        "\n",
        "class Animal:\n",
        "  def __init__(self): # Definisi attribute/property (variable)\n",
        "    self.name = \"Luwy\"\n",
        "    self.animalType = \"Cat\"\n",
        "    self.kingdom = \"verteberata\"\n",
        "    self.totalLeg = 4\n",
        "\n",
        "  def __str__(self):\n",
        "    '''\n",
        "    __str__ untuk menampilkan data dalam string.\n",
        "    '''\n",
        "    return f'Hewan ini adalah {self.animalType} dengan nama {self.name} merupakan kingdom {self.kingdom}'\n",
        "\n",
        "  def speak(self):\n",
        "    return \"hai\"\n",
        "\n",
        "kucingku = Animal()\n",
        "print(kucingku)\n",
        "print(kucingku.name) # Pemanggilan property\n",
        "print(kucingku.speak()) # Pemanggilan method"
      ]
    },
    {
      "cell_type": "markdown",
      "metadata": {
        "id": "Z2Iy1r7bvoau"
      },
      "source": [
        "### Method & Property"
      ]
    },
    {
      "cell_type": "markdown",
      "metadata": {
        "id": "WvSt6Gn-vWDN"
      },
      "source": [
        "## Inheritance"
      ]
    },
    {
      "cell_type": "code",
      "execution_count": 41,
      "metadata": {
        "colab": {
          "base_uri": "https://localhost:8080/"
        },
        "id": "hb3SEE2d2BIW",
        "outputId": "2d82c152-567f-4c27-e715-012b90fac091"
      },
      "outputs": [
        {
          "name": "stdout",
          "output_type": "stream",
          "text": [
            "Halloooo Cicak\n",
            "Cicak\n",
            "False\n",
            "True\n",
            "Lari.....\n",
            "False\n"
          ]
        }
      ],
      "source": [
        "class Animal:\n",
        "  def __init__(self, name, animalType, kingdom, totalLeg): # Definisi attribute/property (variable)\n",
        "    self.name = name\n",
        "    self.animalType = animalType\n",
        "    self.kingdom = kingdom\n",
        "    self.totalLeg = totalLeg\n",
        "\n",
        "  def __str__(self):\n",
        "    return f'Hewan ini adalah {self.animalType} dengan nama {self.name} merupakan kingdom {self.kingdom}'\n",
        "\n",
        "  def speak(self):\n",
        "    return \"hai\"\n",
        "\n",
        "# kucingku = Animal(\"Luwy\", \"Cat\", \"verteberata\", 4)\n",
        "# print(kucingku)\n",
        "\n",
        "\n",
        "class Invertebrata(Animal):\n",
        "  def __init__(self,  name, animalType, totalLeg, mood):\n",
        "    Animal.__init__(self, name, animalType, \"Invertebrate\", totalLeg)\n",
        "    self._mood = mood\n",
        "\n",
        "  def get_mood(self): # Getter\n",
        "    return self._mood\n",
        "\n",
        "  def set_mood(self, value): # Setter\n",
        "    self._mood = value\n",
        "\n",
        "  def running5Km(self):\n",
        "    print(\"Lari.....\")\n",
        "    self._mood = False\n",
        "\n",
        "  def speak(self):\n",
        "    return f\"Halloooo ini {self.name}\"\n",
        "\n",
        "\n",
        "\n",
        "class Vertebrata(Animal):\n",
        "  def __init__(self,  name, animalType, totalLeg):\n",
        "    Animal.__init__(self, name, animalType, \"Vertebrata\", totalLeg)\n",
        "\n",
        "cicak = Invertebrata(\"Cicak\", \"Cicak\", 4, False)\n",
        "print(cicak.speak())\n",
        "print(cicak.name)\n",
        "# print(cicak.__mood) # Tidak bisa akses langsung\n",
        "print(cicak.get_mood())\n",
        "cicak.set_mood(True)\n",
        "print(cicak.get_mood())\n",
        "\n",
        "\n",
        "cicak.running5Km()\n",
        "print(cicak.get_mood())\n",
        "\n",
        "\n",
        "# kucingku = Vertebrata(\"Luwy\", \"Cat\", 4)\n",
        "# print(kucingku)"
      ]
    },
    {
      "cell_type": "markdown",
      "metadata": {
        "id": "9d8TYdvLvYUh"
      },
      "source": [
        "## Encapsulation\n",
        "\n",
        "- Ada hal yang bisa disembunyikan dengan tambahan penamaan diawali underscore \"_\"\n",
        "- Akses dan mengubah melewati method (getter & setter)"
      ]
    },
    {
      "cell_type": "markdown",
      "metadata": {
        "id": "JYkpchmpvgCQ"
      },
      "source": [
        "## Polymorphism\n"
      ]
    },
    {
      "cell_type": "code",
      "execution_count": null,
      "metadata": {
        "id": "97o9hrF-_R1W"
      },
      "outputs": [],
      "source": []
    },
    {
      "cell_type": "markdown",
      "metadata": {
        "id": "R9vlfTBo-2w1"
      },
      "source": [
        "## EXERCISE\n",
        "\n",
        "Write a Python class Employee with attributes like:\n",
        "emp_id, emp_name, emp_salary, and emp_department\n",
        "\n",
        "and methods like calculate_emp_salary, emp_assign_department, and print_employee_details.\n",
        "\n",
        "\n",
        "Sample Employee Data:  \n",
        "\"ADAMS\", \"E7876\", 50000, \"ACCOUNTING\"  \n",
        "\"JONES\", \"E7499\", 45000, \"RESEARCH\"  \n",
        "\"MARTIN\", \"E7900\", 50000, \"SALES\"   \n",
        "\"SMITH\", \"E7698\", 55000, \"OPERATIONS\"  \n",
        "\n",
        "\n",
        "\n",
        "- Use 'assign_department' method to change the department of an employee.\n",
        "- Use 'print_employee_details' method to print the details of an employee.\n",
        "- Use 'calculate_emp_salary' method takes two arguments: salary and hours_worked, which is the number of hours worked by the employee. If the number of hours worked is more than 50, the method computes overtime and adds it to the salary. Overtime is calculated as following formula:\n",
        "\n",
        "  Overtime = hours_worked - 50  \n",
        "  Overtime amount = (overtime * (salary / 50))\n"
      ]
    },
    {
      "cell_type": "code",
      "execution_count": 56,
      "metadata": {
        "colab": {
          "base_uri": "https://localhost:8080/"
        },
        "id": "u34DLllL-2dR",
        "outputId": "750a7d59-9250-44eb-fe45-049c8f29aaed"
      },
      "outputs": [
        {
          "name": "stdout",
          "output_type": "stream",
          "text": [
            "\n",
            "    ID E7876 dengan nama ADAMS\n",
            "    departement ACCOUNTING dengan salary 50000\n",
            "    \n",
            "\n",
            "    ID E7876 dengan nama ADAMS\n",
            "    departement INSTRUKTUR dengan salary 50000\n",
            "    \n",
            "50020.0\n"
          ]
        }
      ],
      "source": [
        "class Employee:\n",
        "  def __init__(self, emp_id, emp_name, emp_salary, emp_departement):\n",
        "    self.emp_id = emp_id\n",
        "    self.emp_name = emp_name\n",
        "    self.emp_salary = emp_salary\n",
        "    self.emp_departement = emp_departement\n",
        "\n",
        "  def calculate_emp_salary(self, salary_perhour, hours_worked):\n",
        "    '''\n",
        "    calculate_emp_salary menghasilkan integer berupa total salary\n",
        "    dengan input salary_perhour, hours_worked\n",
        "    '''\n",
        "    overtime = hours_worked - 50\n",
        "    overtime_amount = (overtime * ( salary_perhour / 50))\n",
        "    result = self.emp_salary + overtime_amount\n",
        "    return result\n",
        "\n",
        "  def emp_assign_department(self, value): # Setter tapi bukan untuk private\n",
        "    self.emp_departement = value\n",
        "    return self\n",
        "\n",
        "  def print_employee_details(self):\n",
        "    return f\"\"\"\n",
        "    ID {self.emp_id} dengan nama {self.emp_name}\n",
        "    departement {self.emp_departement} dengan salary {self.emp_salary}\n",
        "    \"\"\"\n",
        "\n",
        "  def __str__(self):\n",
        "    return f\"ID {self.emp_id} dengan nama {self.emp_name}\"\n",
        "\n",
        "if __name__ == \"__main__\":\n",
        "  listData = [\n",
        "      {\"name\": \"ADAMS\", \"id\": \"E7876\", \"salary\": 50000, \"departement\": \"ACCOUNTING\"},\n",
        "      {\"name\": \"JONES\", \"id\":  \"E7499\", \"salary\": 45000, \"departement\": \"RESEARCH\"  },\n",
        "      {\"name\": \"MARTIN\", \"id\": \"E7900\", \"salary\": 50000, \"departement\": \"SALES\"   },\n",
        "      {\"name\": \"SMITH\", \"id\": \"E7698\", \"salary\": 55000, \"departement\":\"OPERATIONS\" }\n",
        "  ]\n",
        "  # Membuat list of object (instance)\n",
        "  listOOP = []\n",
        "  # looping untuk list data \n",
        "  for data in listData:\n",
        "    obj = Employee( data[\"id\"], data[\"name\"], data[\"salary\"], data[\"departement\"])\n",
        "    listOOP.append(obj)\n",
        "\n",
        "\n",
        "  print(listOOP[0].print_employee_details())\n",
        "  print(listOOP[0].emp_assign_department(\"INSTRUKTUR\").print_employee_details())\n",
        "  print(listOOP[0].calculate_emp_salary(1000, 51))\n",
        "  # print(listOOP[0].print_employee_details())\n"
      ]
    },
    {
      "cell_type": "markdown",
      "metadata": {},
      "source": [
        "# Exception Handling"
      ]
    },
    {
      "cell_type": "markdown",
      "metadata": {},
      "source": [
        "| Error                       | Exception                     |\n",
        "|-----------------------------|-------------------------------|\n",
        "| Kesalahan dalam kode.       | Kondisi tidak biasa.          |\n",
        "| Biasanya tidak ditangkap.   | Ditangkap dengan try-except.  |\n",
        "| Dihasilkan secara implisit (tidak diperkirakan). | Bisa dihasilkan secara eksplisit (bisa diduga). |\n",
        "| Memerlukan perbaikan kode. (bug fixing)   | Dapat ditangani dan dipulihkan. (bisa dihandle dengan try-exception) |\n"
      ]
    },
    {
      "cell_type": "code",
      "execution_count": 1,
      "metadata": {},
      "outputs": [],
      "source": [
        "# Exception = situasi yang tidak biasa. (Error, Warning)\n",
        "# Mari kita buat calculator versi OOP cukup + - * / saja namun handling exception.\n",
        "\n",
        "class Calculator:\n",
        "  def __init__(self, number=0): \n",
        "    self.result = number\n",
        "\n",
        "  def __str__(self):\n",
        "    return f'Ouputnya {self.result}'\n",
        "\n",
        "  def add(self, n):\n",
        "    self.result += n \n",
        "    return self\n",
        "\n",
        "  def minus(self, n):\n",
        "    try: \n",
        "      if type(n) is int:\n",
        "        self.result -= n\n",
        "        return self\n",
        "      else :\n",
        "        raise Exception(\"Hanya menerima input integer!\")\n",
        "    except: \n",
        "      return \"Gagal\"\n",
        "\n",
        "  def divide(self, n):\n",
        "    self.result /= n \n",
        "    return self\n",
        "\n",
        "  def multiple(self, n):\n",
        "    self.result *= n\n",
        "    return self\n",
        "\n",
        "\n",
        "# calculator = Calculator(7)\n",
        "# calculator.add(3).minus(False)\n",
        "# print(calculator)"
      ]
    },
    {
      "cell_type": "code",
      "execution_count": 4,
      "metadata": {},
      "outputs": [],
      "source": [
        "def checkGenapGanjil(number):\n",
        "  '''\n",
        "  Check genap ganjil akan memberikan output boolean\n",
        "  Jika genap maka output True\n",
        "  '''\n",
        "  if number%2 == 0: return True\n",
        "  return False"
      ]
    },
    {
      "cell_type": "markdown",
      "metadata": {},
      "source": [
        "# Unittest di notebook"
      ]
    },
    {
      "cell_type": "code",
      "execution_count": 5,
      "metadata": {},
      "outputs": [
        {
          "name": "stderr",
          "output_type": "stream",
          "text": [
            "/var/folders/q3/c09pj2ds599_9jxvb5cxrmh80000gn/T/ipykernel_46550/3942116458.py:24: DeprecationWarning: Please use assertEqual instead.\n",
            "  self.assertEquals(testcase4, True)\n",
            "....\n",
            "----------------------------------------------------------------------\n",
            "Ran 4 tests in 0.003s\n",
            "\n",
            "OK\n"
          ]
        },
        {
          "data": {
            "text/plain": [
              "<unittest.main.TestProgram at 0x11583de90>"
            ]
          },
          "execution_count": 5,
          "metadata": {},
          "output_type": "execute_result"
        }
      ],
      "source": [
        "import unittest \n",
        "\n",
        "class Test(unittest.TestCase):\n",
        "  def test_fiturAdd(self):\n",
        "    testcase1 = Calculator(1)\n",
        "    self.assertEquals(testcase1.result, 1)\n",
        "    testcase1.add(9)\n",
        "    self.assertEquals(testcase1.result, 10)\n",
        "\n",
        "  def test_fiturMinus(self):\n",
        "    testcase2 = Calculator(15)\n",
        "    self.assertEquals(testcase2.result, 15)\n",
        "    testcase2.minus(10)\n",
        "    self.assertEquals(testcase2.result, 5)\n",
        "\n",
        "  def test_fiturMinusFailed(self):\n",
        "     testcase3 = Calculator(15)\n",
        "     self.assertEquals(testcase3.result, 15)\n",
        "     result = testcase3.minus(True)\n",
        "     self.assertEquals(result, \"Gagal\")\n",
        "\n",
        "  def test_checkGenapGanjilTrue(self):\n",
        "    testcase4 = checkGenapGanjil(20)\n",
        "    self.assertEquals(testcase4, True)\n",
        "\n",
        "\n",
        "\n",
        "unittest.main(argv=[\"\"], exit=False)"
      ]
    }
  ],
  "metadata": {
    "colab": {
      "provenance": []
    },
    "kernelspec": {
      "display_name": "Python 3",
      "name": "python3"
    },
    "language_info": {
      "codemirror_mode": {
        "name": "ipython",
        "version": 3
      },
      "file_extension": ".py",
      "mimetype": "text/x-python",
      "name": "python",
      "nbconvert_exporter": "python",
      "pygments_lexer": "ipython3",
      "version": "3.11.3"
    }
  },
  "nbformat": 4,
  "nbformat_minor": 0
}
